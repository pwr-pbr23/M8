{
  "cells": [
    {
      "cell_type": "code",
      "execution_count": null,
      "metadata": {
        "id": "iDDFG-HCWCFL"
      },
      "outputs": [],
      "source": [
        "# Clone required repositories\n",
        "!git clone https://github.com/awsm-research/DeepLineDP.git\n",
        "!cd ./DeepLineDP/ && mkdir -p ./datasets/original\n",
        "!cd ./DeepLineDP/datasets/original && git clone https://github.com/awsm-research/line-level-defect-prediction.git\n",
        "!cp -r ./DeepLineDP/datasets/original/line-level-defect-prediction/Dataset/File-level/ ./DeepLineDP/datasets/original\n",
        "!cp -r ./DeepLineDP/datasets/original/line-level-defect-prediction/Dataset/Line-level/ ./DeepLineDP/datasets/original\n",
        "\n",
        "# Setup R environment\n",
        "# Note: installing R packages takes about 20 minutes \n",
        "!pip uninstall rpy2 -y\n",
        "!pip install rpy2==3.0.0\n",
        "%load_ext rpy2.ipython"
      ]
    },
    {
      "cell_type": "code",
      "execution_count": null,
      "metadata": {
        "id": "hwdQmtseXn4H"
      },
      "outputs": [],
      "source": [
        "%%R\n",
        "install.packages('tidyverse', repos = \"http://cran.us.r-project.org\")\n",
        "install.packages('gridExtra', repos = \"http://cran.us.r-project.org\")\n",
        "install.packages('ModelMetrics', repos = \"http://cran.us.r-project.org\")\n",
        "install.packages('caret', repos = \"http://cran.us.r-project.org\")\n",
        "install.packages('reshape2', repos = \"http://cran.us.r-project.org\")\n",
        "install.packages('pROC', repos = \"http://cran.us.r-project.org\")\n",
        "install.packages('effsize', repos = \"http://cran.us.r-project.org\")\n",
        "install.packages('ScottKnottESD', repos = \"http://cran.us.r-project.org\")"
      ]
    },
    {
      "cell_type": "code",
      "execution_count": null,
      "metadata": {
        "id": "fmgV4gTLZ8uB"
      },
      "outputs": [],
      "source": [
        "# Setup conda environment\n",
        "!wget https://repo.anaconda.com/miniconda/Miniconda3-py39_23.1.0-1-Linux-x86_64.sh\n",
        "!chmod +x Miniconda3-py39_23.1.0-1-Linux-x86_64.sh\n",
        "!bash ./Miniconda3-py39_23.1.0-1-Linux-x86_64.sh -b -f -p /usr/local\n",
        "\n",
        "import sys\n",
        "sys.path.append('/usr/local/lib/python3.9/site-packages/')\n",
        "\n",
        "!cd ./DeepLineDP/ && conda env create -f requirements.yml\n",
        "!conda init bash\n",
        "!bash --login\n",
        "\n",
        "# In new shell: \n",
        "# TO DO: write script to run all below commands in conda environment\n",
        "# conda deactivate\n",
        "# conda activate DeepLineDP_env\n",
        "# pip install torch\n",
        "# pip install imblearn\n",
        "# chmod a+x ./train_models_and_generate_predictions_for_file-level_baselines.sh\n",
        "# ./train_models_and_generate_predictions_for_file-level_baselines.sh"
      ]
    },
    {
      "cell_type": "code",
      "execution_count": null,
      "metadata": {
        "id": "15YppiJHguXO"
      },
      "outputs": [],
      "source": [
        "# Preprocess data\n",
        "# Note: preprocessing data takes about 10 minutes\n",
        "!pip install pandas==1.3.3\n",
        "!pip install torch\n",
        "!cd ./DeepLineDP/script/ && python preprocess_data.py && python export_data_for_line_level_baseline.py"
      ]
    },
    {
      "cell_type": "code",
      "execution_count": null,
      "metadata": {
        "id": "u3klnZDdu5tM"
      },
      "outputs": [],
      "source": [
        "# Train Word2Vec model\n",
        "# Note: training Word2Vec model takes about 5 minutes\n",
        "!pip install gensim==3.8.3\n",
        "!pip install more-itertools==8.10.0\n",
        "!cd ./DeepLineDP/script/ && python train_word2vec.py activemq\n",
        "!cd ./DeepLineDP/script/ && python train_word2vec.py camel\n",
        "!cd ./DeepLineDP/script/ && python train_word2vec.py derby\n",
        "!cd ./DeepLineDP/script/ && python train_word2vec.py groovy\n",
        "!cd ./DeepLineDP/script/ && python train_word2vec.py hbase\n",
        "!cd ./DeepLineDP/script/ && python train_word2vec.py hive\n",
        "!cd ./DeepLineDP/script/ && python train_word2vec.py jruby\n",
        "!cd ./DeepLineDP/script/ && python train_word2vec.py lucene\n",
        "!cd ./DeepLineDP/script/ && python train_word2vec.py wicket"
      ]
    },
    {
      "cell_type": "code",
      "execution_count": null,
      "metadata": {
        "id": "fpWm368Jyf36"
      },
      "outputs": [],
      "source": [
        "# Train DeepLineDP model\n",
        "# Note: training DeepLineDP model takes about 50 minutes\n",
        "!pip install scikit-learn==1.0\n",
        "!cd ./DeepLineDP/script/ && python train_model.py -dataset activemq\n",
        "!cd ./DeepLineDP/script/ && python train_model.py -dataset camel\n",
        "!cd ./DeepLineDP/script/ && python train_model.py -dataset derby\n",
        "!cd ./DeepLineDP/script/ && python train_model.py -dataset groovy\n",
        "!cd ./DeepLineDP/script/ && python train_model.py -dataset hbase\n",
        "!cd ./DeepLineDP/script/ && python train_model.py -dataset hive\n",
        "!cd ./DeepLineDP/script/ && python train_model.py -dataset jruby\n",
        "!cd ./DeepLineDP/script/ && python train_model.py -dataset lucene\n",
        "!cd ./DeepLineDP/script/ && python train_model.py -dataset wicket"
      ]
    },
    {
      "cell_type": "code",
      "execution_count": null,
      "metadata": {
        "id": "4_sy7mLozHxy"
      },
      "outputs": [],
      "source": [
        "# Generate predictions\n",
        "# Note: generating predictions takes about 10 minutes\n",
        "!cd ./DeepLineDP/script/ && python generate_prediction.py -dataset activemq\n",
        "!cd ./DeepLineDP/script/ && python generate_prediction.py -dataset camel\n",
        "!cd ./DeepLineDP/script/ && python generate_prediction.py -dataset derby\n",
        "!cd ./DeepLineDP/script/ && python generate_prediction.py -dataset groovy\n",
        "!cd ./DeepLineDP/script/ && python generate_prediction.py -dataset hbase\n",
        "!cd ./DeepLineDP/script/ && python generate_prediction.py -dataset hive\n",
        "!cd ./DeepLineDP/script/ && python generate_prediction.py -dataset jruby\n",
        "!cd ./DeepLineDP/script/ && python generate_prediction.py -dataset lucene\n",
        "!cd ./DeepLineDP/script/ && python generate_prediction.py -dataset wicket"
      ]
    },
    {
      "cell_type": "code",
      "execution_count": null,
      "metadata": {
        "id": "N_1zrXe_iboR"
      },
      "outputs": [],
      "source": [
        "# Generate cross projects predictions\n",
        "# Note: generating cross projects predictions takes about 65 minutes\n",
        "!cd ./DeepLineDP/script/ && python generate_prediction_cross_projects.py -dataset activemq\n",
        "!cd ./DeepLineDP/script/ && python generate_prediction_cross_projects.py -dataset camel\n",
        "!cd ./DeepLineDP/script/ && python generate_prediction_cross_projects.py -dataset derby\n",
        "!cd ./DeepLineDP/script/ && python generate_prediction_cross_projects.py -dataset groovy\n",
        "!cd ./DeepLineDP/script/ && python generate_prediction_cross_projects.py -dataset hbase\n",
        "!cd ./DeepLineDP/script/ && python generate_prediction_cross_projects.py -dataset hive\n",
        "!cd ./DeepLineDP/script/ && python generate_prediction_cross_projects.py -dataset jruby\n",
        "!cd ./DeepLineDP/script/ && python generate_prediction_cross_projects.py -dataset lucene\n",
        "!cd ./DeepLineDP/script/ && python generate_prediction_cross_projects.py -dataset wicket"
      ]
    },
    {
      "cell_type": "code",
      "execution_count": null,
      "metadata": {
        "id": "sfNdNAN4i3Gf"
      },
      "outputs": [],
      "source": [
        "# Train file-level baselines' models\n",
        "# Note: training file-level baselines' models takes about ... minutes\n",
        "\n",
        "# Bi-LSTM\n",
        "!cd ./DeepLineDP/script/file-level-baseline/ && python Bi-LSTM-baseline.py -data activemq -train\n",
        "!cd ./DeepLineDP/script/file-level-baseline/ && python Bi-LSTM-baseline.py -data camel -train\n",
        "!cd ./DeepLineDP/script/file-level-baseline/ && python Bi-LSTM-baseline.py -data derby -train\n",
        "!cd ./DeepLineDP/script/file-level-baseline/ && python Bi-LSTM-baseline.py -data groovy -train\n",
        "!cd ./DeepLineDP/script/file-level-baseline/ && python Bi-LSTM-baseline.py -data hbase -train\n",
        "!cd ./DeepLineDP/script/file-level-baseline/ && python Bi-LSTM-baseline.py -data hive -train\n",
        "!cd ./DeepLineDP/script/file-level-baseline/ && python Bi-LSTM-baseline.py -data jruby -train\n",
        "!cd ./DeepLineDP/script/file-level-baseline/ && python Bi-LSTM-baseline.py -data lucene -train\n",
        "!cd ./DeepLineDP/script/file-level-baseline/ && python Bi-LSTM-baseline.py -data wicket -train\n",
        "\n",
        "# CNN\n",
        "!cd ./DeepLineDP/script/file-level-baseline/ && python CNN-baseline.py -data activemq -train\n",
        "!cd ./DeepLineDP/script/file-level-baseline/ && python CNN-baseline.py -data camel -train\n",
        "!cd ./DeepLineDP/script/file-level-baseline/ && python CNN-baseline.py -data derby -train\n",
        "!cd ./DeepLineDP/script/file-level-baseline/ && python CNN-baseline.py -data groovy -train\n",
        "!cd ./DeepLineDP/script/file-level-baseline/ && python CNN-baseline.py -data hbase -train\n",
        "!cd ./DeepLineDP/script/file-level-baseline/ && python CNN-baseline.py -data hive -train\n",
        "!cd ./DeepLineDP/script/file-level-baseline/ && python CNN-baseline.py -data jruby -train\n",
        "!cd ./DeepLineDP/script/file-level-baseline/ && python CNN-baseline.py -data lucene -train\n",
        "!cd ./DeepLineDP/script/file-level-baseline/ && python CNN-baseline.py -data wicket -train\n",
        "\n",
        "# DBN\n",
        "!cd ./DeepLineDP/script/file-level-baseline/ && python DBN-baseline.py -data activemq -train\n",
        "!cd ./DeepLineDP/script/file-level-baseline/ && python DBN-baseline.py -data camel -train\n",
        "!cd ./DeepLineDP/script/file-level-baseline/ && python DBN-baseline.py -data derby -train\n",
        "!cd ./DeepLineDP/script/file-level-baseline/ && python DBN-baseline.py -data groovy -train\n",
        "!cd ./DeepLineDP/script/file-level-baseline/ && python DBN-baseline.py -data hbase -train\n",
        "!cd ./DeepLineDP/script/file-level-baseline/ && python DBN-baseline.py -data hive -train\n",
        "!cd ./DeepLineDP/script/file-level-baseline/ && python DBN-baseline.py -data jruby -train\n",
        "!cd ./DeepLineDP/script/file-level-baseline/ && python DBN-baseline.py -data lucene -train\n",
        "!cd ./DeepLineDP/script/file-level-baseline/ && python DBN-baseline.py -data wicket -train\n",
        "\n",
        "# BoW\n",
        "!cd ./DeepLineDP/script/file-level-baseline/ && python BoW-baseline.py -data activemq -train\n",
        "!cd ./DeepLineDP/script/file-level-baseline/ && python BoW-baseline.py -data camel -train\n",
        "!cd ./DeepLineDP/script/file-level-baseline/ && python BoW-baseline.py -data derby -train\n",
        "!cd ./DeepLineDP/script/file-level-baseline/ && python BoW-baseline.py -data groovy -train\n",
        "!cd ./DeepLineDP/script/file-level-baseline/ && python BoW-baseline.py -data hbase -train\n",
        "!cd ./DeepLineDP/script/file-level-baseline/ && python BoW-baseline.py -data hive -train\n",
        "!cd ./DeepLineDP/script/file-level-baseline/ && python BoW-baseline.py -data jruby -train\n",
        "!cd ./DeepLineDP/script/file-level-baseline/ && python BoW-baseline.py -data lucene -train\n",
        "!cd ./DeepLineDP/script/file-level-baseline/ && python BoW-baseline.py -data wicket -train"
      ]
    },
    {
      "cell_type": "code",
      "execution_count": null,
      "metadata": {
        "id": "g98TzVRok-2F"
      },
      "outputs": [],
      "source": [
        "# Generate predictions for file-level baselines' models\n",
        "# Note: generating predictions for file-level baselines' models takes about ... minutes\n",
        "\n",
        "# Bi-LSTM\n",
        "!cd ./DeepLineDP/script/file-level-baseline/ && python Bi-LSTM-baseline.py -data activemq -predict -target_epochs 6\n",
        "!cd ./DeepLineDP/script/file-level-baseline/ && python Bi-LSTM-baseline.py -data camel -predict -target_epochs 6\n",
        "!cd ./DeepLineDP/script/file-level-baseline/ && python Bi-LSTM-baseline.py -data derby -predict -target_epochs 6\n",
        "!cd ./DeepLineDP/script/file-level-baseline/ && python Bi-LSTM-baseline.py -data groovy -predict -target_epochs 6\n",
        "!cd ./DeepLineDP/script/file-level-baseline/ && python Bi-LSTM-baseline.py -data hbase -predict -target_epochs 6\n",
        "!cd ./DeepLineDP/script/file-level-baseline/ && python Bi-LSTM-baseline.py -data hive -predict -target_epochs 6\n",
        "!cd ./DeepLineDP/script/file-level-baseline/ && python Bi-LSTM-baseline.py -data jruby -predict -target_epochs 6\n",
        "!cd ./DeepLineDP/script/file-level-baseline/ && python Bi-LSTM-baseline.py -data lucene -predict -target_epochs 6\n",
        "!cd ./DeepLineDP/script/file-level-baseline/ && python Bi-LSTM-baseline.py -data wicket -predict -target_epochs 6\n",
        "\n",
        "# CNN\n",
        "!cd ./DeepLineDP/script/file-level-baseline/ && python CNN-baseline.py -data activemq -predict -target_epochs 6\n",
        "!cd ./DeepLineDP/script/file-level-baseline/ && python CNN-baseline.py -data camel -predict -target_epochs 6\n",
        "!cd ./DeepLineDP/script/file-level-baseline/ && python CNN-baseline.py -data derby -predict -target_epochs 6\n",
        "!cd ./DeepLineDP/script/file-level-baseline/ && python CNN-baseline.py -data groovy -predict -target_epochs 6\n",
        "!cd ./DeepLineDP/script/file-level-baseline/ && python CNN-baseline.py -data hbase -predict -target_epochs 6\n",
        "!cd ./DeepLineDP/script/file-level-baseline/ && python CNN-baseline.py -data hive -predict -target_epochs 6\n",
        "!cd ./DeepLineDP/script/file-level-baseline/ && python CNN-baseline.py -data jruby -predict -target_epochs 6\n",
        "!cd ./DeepLineDP/script/file-level-baseline/ && python CNN-baseline.py -data lucene -predict -target_epochs 6\n",
        "!cd ./DeepLineDP/script/file-level-baseline/ && python CNN-baseline.py -data wicket -predict -target_epochs 6\n",
        "\n",
        "# DBN\n",
        "!cd ./DeepLineDP/script/file-level-baseline/ && python DBN-baseline.py -data activemq -predict\n",
        "!cd ./DeepLineDP/script/file-level-baseline/ && python DBN-baseline.py -data camel -predict\n",
        "!cd ./DeepLineDP/script/file-level-baseline/ && python DBN-baseline.py -data derby -predict\n",
        "!cd ./DeepLineDP/script/file-level-baseline/ && python DBN-baseline.py -data groovy -predict\n",
        "!cd ./DeepLineDP/script/file-level-baseline/ && python DBN-baseline.py -data hbase -predict\n",
        "!cd ./DeepLineDP/script/file-level-baseline/ && python DBN-baseline.py -data hive -predict\n",
        "!cd ./DeepLineDP/script/file-level-baseline/ && python DBN-baseline.py -data jruby -predict\n",
        "!cd ./DeepLineDP/script/file-level-baseline/ && python DBN-baseline.py -data lucene -predict\n",
        "!cd ./DeepLineDP/script/file-level-baseline/ && python DBN-baseline.py -data wicket -predict\n",
        "\n",
        "# BoW\n",
        "!cd ./DeepLineDP/script/file-level-baseline/ && python BoW-baseline.py -data activemq -predict\n",
        "!cd ./DeepLineDP/script/file-level-baseline/ && python BoW-baseline.py -data camel -predict\n",
        "!cd ./DeepLineDP/script/file-level-baseline/ && python BoW-baseline.py -data derby -predict\n",
        "!cd ./DeepLineDP/script/file-level-baseline/ && python BoW-baseline.py -data groovy -predict\n",
        "!cd ./DeepLineDP/script/file-level-baseline/ && python BoW-baseline.py -data hbase -predict\n",
        "!cd ./DeepLineDP/script/file-level-baseline/ && python BoW-baseline.py -data hive -predict\n",
        "!cd ./DeepLineDP/script/file-level-baseline/ && python BoW-baseline.py -data jruby -predict\n",
        "!cd ./DeepLineDP/script/file-level-baseline/ && python BoW-baseline.py -data lucene -predict\n",
        "!cd ./DeepLineDP/script/file-level-baseline/ && python BoW-baseline.py -data wicket -predict"
      ]
    },
    {
      "cell_type": "code",
      "execution_count": null,
      "metadata": {
        "colab": {
          "base_uri": "https://localhost:8080/"
        },
        "id": "ooWqbF6cYBNI",
        "outputId": "21e25d17-31d8-4707-f0b2-d74f61d353c8"
      },
      "outputs": [
        {
          "name": "stdout",
          "output_type": "stream",
          "text": [
            "Mounted at /content/drive\n"
          ]
        }
      ],
      "source": [
        "# Export all to Google Drive and download\n",
        "# from google.colab import drive\n",
        "# drive.mount('/content/drive')\n",
        "# !zip -r /content/drive/MyDrive/PBRwIO/DeepLineDP.zip ./DeepLineDP/"
      ]
    },
    {
      "cell_type": "code",
      "execution_count": null,
      "metadata": {
        "id": "fS1xBXNVYCTX"
      },
      "outputs": [],
      "source": [
        "# Import all from Google Drive\n",
        "# from google.colab import drive\n",
        "# drive.mount('/content/drive')\n",
        "# !cp /content/drive/MyDrive/PBRwIO/DeepLineDP_with_predictions_including_cross_projects_without_baselines_with_line-level_baselines.zip .\n",
        "# !unzip ./DeepLineDP_with_predictions_including_cross_projects_without_baselines_with_line-level_baselines.zip"
      ]
    }
  ],
  "metadata": {
    "accelerator": "GPU",
    "colab": {
      "provenance": []
    },
    "gpuClass": "standard",
    "kernelspec": {
      "display_name": "Python 3",
      "name": "python3"
    },
    "language_info": {
      "name": "python"
    }
  },
  "nbformat": 4,
  "nbformat_minor": 0
}