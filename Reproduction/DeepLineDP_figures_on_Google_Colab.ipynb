{
  "nbformat": 4,
  "nbformat_minor": 0,
  "metadata": {
    "colab": {
      "provenance": []
    },
    "kernelspec": {
      "name": "ir",
      "display_name": "R"
    },
    "language_info": {
      "name": "R"
    }
  },
  "cells": [
    {
      "cell_type": "markdown",
      "source": [
        "# Import all reproduction results from Google Drive\n",
        "You have to specify your e-mail address (USER_EMAIL) and id of the file with reproduction results you want to import (USER_FILE_ID)"
      ],
      "metadata": {
        "id": "SSoPVdj4Mwzx"
      }
    },
    {
      "cell_type": "code",
      "source": [
        "if (!require(googledrive)) {\n",
        "  install.packages(\"googledrive\")\n",
        "}\n",
        "\n",
        "library(googledrive)\n",
        "\n",
        "USER_EMAIL <- \"252864@student.pwr.edu.pl\"\n",
        "\n",
        "drive_auth(email = USER_EMAIL)\n",
        "\n",
        "USER_FILE_ID <- \"1K6a1XITaGdf6RU-8U62x3K-XYa3JJNMk\"\n",
        "\n",
        "user_zip_file <- drive_get(as_id(USER_FILE_ID))\n",
        "\n",
        "drive_download(user_zip_file)\n",
        "\n",
        "zip_file <- \"/content/All_reproduction_results.zip\"\n",
        "\n",
        "unzip(zipfile = zip_file, exdir = \"All_reproduction_results\")"
      ],
      "metadata": {
        "id": "bboxOlQpMw7c",
        "colab": {
          "base_uri": "https://localhost:8080/"
        },
        "outputId": "30d11115-5e97-49d1-ca43-140de52db02a"
      },
      "execution_count": 1,
      "outputs": [
        {
          "output_type": "stream",
          "name": "stderr",
          "text": [
            "Loading required package: googledrive\n",
            "\n",
            "No encoding supplied: defaulting to UTF-8.\n",
            "\n",
            "\u001b[1m\u001b[22mIs it OK to cache OAuth access credentials in the folder \u001b[34m~/.cache/gargle\u001b[39m\n",
            "between R sessions?\n",
            "\u001b[1m1\u001b[22m: Yes\n",
            "\u001b[1m2\u001b[22m: No\n"
          ]
        },
        {
          "name": "stdout",
          "output_type": "stream",
          "text": [
            "Selection: 2\n"
          ]
        },
        {
          "output_type": "stream",
          "name": "stderr",
          "text": [
            "Please point your browser to the following url: \n",
            "\n",
            "https://accounts.google.com/o/oauth2/v2/auth?client_id=603366585132-frjlouoa3s2ono25d2l9ukvhlsrlnr7k.apps.googleusercontent.com&scope=https%3A%2F%2Fwww.googleapis.com%2Fauth%2Fdrive%20https%3A%2F%2Fwww.googleapis.com%2Fauth%2Fuserinfo.email&redirect_uri=https%3A%2F%2Fwww.tidyverse.org%2Fgoogle-callback%2F&response_type=code&state=b1fae4ecfb06c9d95f9989c40821083f&login_hint=252864%40student.pwr.edu.pl&access_type=offline&prompt=consent\n",
            "\n"
          ]
        },
        {
          "name": "stdout",
          "output_type": "stream",
          "text": [
            "Enter authorization code: eyJjb2RlIjoiNC8wQWJVUjJWTVViWTZrSW14U2d5MVhfdW5JTGhCSEd6M0I5NnFqRkIwRzY2cUhLWW9meFRKSlJiVnpGc1ZwYjFYVHNoVUtJQSIsInN0YXRlIjoiYjFmYWU0ZWNmYjA2YzlkOTVmOTk4OWM0MDgyMTA4M2YifQ==\n"
          ]
        },
        {
          "output_type": "stream",
          "name": "stderr",
          "text": [
            "File downloaded:\n",
            "\n",
            "\u001b[36m•\u001b[39m \u001b[36mAll_reproduction_results.zip\u001b[39m \u001b[90m<id: 1K6a1XITaGdf6RU-8U62x3K-XYa3JJNMk>\u001b[39m\n",
            "\n",
            "Saved locally as:\n",
            "\n",
            "\u001b[36m•\u001b[39m \u001b[34mAll_reproduction_results.zip\u001b[39m\n",
            "\n"
          ]
        }
      ]
    },
    {
      "cell_type": "markdown",
      "source": [
        "# Setup R environment\n",
        "\n",
        "Note: installing R packages takes about 20 minutes"
      ],
      "metadata": {
        "id": "JoBf_EqgLZS4"
      }
    },
    {
      "cell_type": "code",
      "execution_count": null,
      "metadata": {
        "id": "YeGaOJp_J6vH",
        "colab": {
          "base_uri": "https://localhost:8080/"
        },
        "outputId": "a98d4f5f-55f0-485b-9a34-8a91ad21204e"
      },
      "outputs": [
        {
          "output_type": "stream",
          "name": "stderr",
          "text": [
            "Installing package into ‘/usr/local/lib/R/site-library’\n",
            "(as ‘lib’ is unspecified)\n",
            "\n",
            "also installing the dependencies ‘textshaping’, ‘conflicted’, ‘jsonlite’, ‘ragg’\n",
            "\n",
            "\n",
            "Warning message in install.packages(\"tidyverse\", repos = \"http://cran.us.r-project.org\"):\n",
            "“installation of package ‘textshaping’ had non-zero exit status”\n",
            "Warning message in install.packages(\"tidyverse\", repos = \"http://cran.us.r-project.org\"):\n",
            "“installation of package ‘ragg’ had non-zero exit status”\n",
            "Warning message in install.packages(\"tidyverse\", repos = \"http://cran.us.r-project.org\"):\n",
            "“installation of package ‘tidyverse’ had non-zero exit status”\n",
            "Installing package into ‘/usr/local/lib/R/site-library’\n",
            "(as ‘lib’ is unspecified)\n",
            "\n",
            "Installing package into ‘/usr/local/lib/R/site-library’\n",
            "(as ‘lib’ is unspecified)\n",
            "\n",
            "also installing the dependency ‘Rcpp’\n",
            "\n",
            "\n",
            "Installing package into ‘/usr/local/lib/R/site-library’\n",
            "(as ‘lib’ is unspecified)\n",
            "\n",
            "also installing the dependencies ‘listenv’, ‘parallelly’, ‘future’, ‘globals’, ‘shape’, ‘future.apply’, ‘numDeriv’, ‘progressr’, ‘SQUAREM’, ‘diagram’, ‘lava’, ‘prodlim’, ‘proxy’, ‘iterators’, ‘clock’, ‘gower’, ‘hardhat’, ‘ipred’, ‘timeDate’, ‘e1071’, ‘foreach’, ‘plyr’, ‘pROC’, ‘recipes’, ‘reshape2’\n",
            "\n",
            "\n",
            "Installing package into ‘/usr/local/lib/R/site-library’\n",
            "(as ‘lib’ is unspecified)\n",
            "\n",
            "Installing package into ‘/usr/local/lib/R/site-library’\n",
            "(as ‘lib’ is unspecified)\n",
            "\n",
            "Installing package into ‘/usr/local/lib/R/site-library’\n",
            "(as ‘lib’ is unspecified)\n",
            "\n",
            "Installing package into ‘/usr/local/lib/R/site-library’\n",
            "(as ‘lib’ is unspecified)\n",
            "\n",
            "also installing the dependencies ‘xts’, ‘TTR’, ‘SparseM’, ‘MatrixModels’, ‘minqa’, ‘nloptr’, ‘RcppEigen’, ‘quadprog’, ‘quantmod’, ‘carData’, ‘abind’, ‘pbkrtest’, ‘quantreg’, ‘lme4’, ‘fracdiff’, ‘lmtest’, ‘tseries’, ‘urca’, ‘zoo’, ‘RcppArmadillo’, ‘car’, ‘forecast’\n",
            "\n",
            "\n"
          ]
        }
      ],
      "source": [
        "install.packages('tidyverse', repos = \"http://cran.us.r-project.org\")\n",
        "install.packages('gridExtra', repos = \"http://cran.us.r-project.org\")\n",
        "install.packages('ModelMetrics', repos = \"http://cran.us.r-project.org\")\n",
        "install.packages('caret', repos = \"http://cran.us.r-project.org\")\n",
        "install.packages('reshape2', repos = \"http://cran.us.r-project.org\")\n",
        "install.packages('pROC', repos = \"http://cran.us.r-project.org\")\n",
        "install.packages('effsize', repos = \"http://cran.us.r-project.org\")\n",
        "install.packages('ScottKnottESD', repos = \"http://cran.us.r-project.org\")"
      ]
    },
    {
      "cell_type": "markdown",
      "source": [
        "# Generate results for RQ1-RQ4 with R script"
      ],
      "metadata": {
        "id": "QvttcfewLhr4"
      }
    },
    {
      "cell_type": "code",
      "source": [
        "setwd(\"/content/All_reproduction_results/DeepLineDP/script/\")\n",
        "source(\"/content/All_reproduction_results/DeepLineDP/script/get_evaluation_result.R\")"
      ],
      "metadata": {
        "id": "7_fGkXalLhyI"
      },
      "execution_count": null,
      "outputs": []
    },
    {
      "cell_type": "markdown",
      "source": [
        "# Export all figures to Google Drive\n",
        "You have to specify absolute path to directory containing generated figures (DIR_PATH)\n",
        "\n"
      ],
      "metadata": {
        "id": "_wrozVSNLmdE"
      }
    },
    {
      "cell_type": "code",
      "source": [
        "if (!require(\"zip\")) {\n",
        "  install.packages(\"zip\")\n",
        "}\n",
        "\n",
        "DIR_PATH <- \"/content/All_reproduction_results/DeepLineDP/output/figure/\"\n",
        "\n",
        "zip_path <- \"/content/figures.zip\"\n",
        "\n",
        "system2(\"zip\", c(zip_path, DIR_PATH))\n",
        "\n",
        "drive_upload(zip_path, type = \"application/zip\")"
      ],
      "metadata": {
        "id": "VFtsfh_nLmkQ"
      },
      "execution_count": null,
      "outputs": []
    }
  ]
}