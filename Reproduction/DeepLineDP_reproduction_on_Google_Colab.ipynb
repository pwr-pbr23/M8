{
  "cells": [
    {
      "cell_type": "markdown",
      "source": [
        "# Clone required repositories"
      ],
      "metadata": {
        "id": "JUEhRENZ8jj5"
      }
    },
    {
      "cell_type": "code",
      "execution_count": null,
      "metadata": {
        "id": "iDDFG-HCWCFL"
      },
      "outputs": [],
      "source": [
        "!git clone https://github.com/pwr-pbr23/M8.git\n",
        "!cd /content/M8/Reproduction/DeepLineDP/ && mkdir -p ./datasets/original\n",
        "!cd /content/M8/Reproduction/DeepLineDP/datasets/original && git clone https://github.com/awsm-research/line-level-defect-prediction.git\n",
        "!cp -r /content/M8/Reproduction/DeepLineDP/datasets/original/line-level-defect-prediction/Dataset/File-level/ /content/M8/Reproduction/DeepLineDP/datasets/original\n",
        "!cp -r /content/M8/Reproduction/DeepLineDP/datasets/original/line-level-defect-prediction/Dataset/Line-level/ /content/M8/Reproduction/DeepLineDP/datasets/original"
      ]
    },
    {
      "cell_type": "markdown",
      "source": [
        "# Setup R environment part I"
      ],
      "metadata": {
        "id": "_74kRSlQ8q7B"
      }
    },
    {
      "cell_type": "code",
      "source": [
        "!pip uninstall rpy2 -y\n",
        "!pip install rpy2==3.5.1\n",
        "%load_ext rpy2.ipython"
      ],
      "metadata": {
        "id": "DKnwX_Fb8nyZ"
      },
      "execution_count": null,
      "outputs": []
    },
    {
      "cell_type": "markdown",
      "source": [
        "# Setup R environment part II\n",
        "\n",
        "Note: installing R packages takes about 20 minutes"
      ],
      "metadata": {
        "id": "6sffwqlm7tQE"
      }
    },
    {
      "cell_type": "code",
      "execution_count": null,
      "metadata": {
        "id": "hwdQmtseXn4H"
      },
      "outputs": [],
      "source": [
        "%%R\n",
        "install.packages('tidyverse', repos = \"http://cran.us.r-project.org\")\n",
        "install.packages('gridExtra', repos = \"http://cran.us.r-project.org\")\n",
        "install.packages('ModelMetrics', repos = \"http://cran.us.r-project.org\")\n",
        "install.packages('caret', repos = \"http://cran.us.r-project.org\")\n",
        "install.packages('reshape2', repos = \"http://cran.us.r-project.org\")\n",
        "install.packages('pROC', repos = \"http://cran.us.r-project.org\")\n",
        "install.packages('effsize', repos = \"http://cran.us.r-project.org\")\n",
        "install.packages('ScottKnottESD', repos = \"http://cran.us.r-project.org\")"
      ]
    },
    {
      "cell_type": "markdown",
      "source": [
        "# Setup conda environment part I"
      ],
      "metadata": {
        "id": "k8Flc6hA8alx"
      }
    },
    {
      "cell_type": "code",
      "execution_count": null,
      "metadata": {
        "id": "AUu6s42UzsMf"
      },
      "outputs": [],
      "source": [
        "!pip install -q condacolab\n",
        "import condacolab\n",
        "condacolab.install()\n",
        "\n",
        "!cd /content/M8/Reproduction/DeepLineDP/ && conda env create -f requirements.yml"
      ]
    },
    {
      "cell_type": "markdown",
      "source": [
        "# Setup conda environment part II"
      ],
      "metadata": {
        "id": "jPZUCTLx7gUK"
      }
    },
    {
      "cell_type": "code",
      "execution_count": null,
      "metadata": {
        "id": "3hC2WexLz38Q"
      },
      "outputs": [],
      "source": [
        "%%bash\n",
        "source activate DeepLineDP_env\n",
        "\n",
        "pip install torch\n",
        "pip install imblearn"
      ]
    },
    {
      "cell_type": "markdown",
      "source": [
        "# Preprocess data\n",
        "\n",
        "Note: preprocessing data takes about 10 minutes"
      ],
      "metadata": {
        "id": "FPHiCdZX78Ct"
      }
    },
    {
      "cell_type": "code",
      "execution_count": null,
      "metadata": {
        "id": "15YppiJHguXO"
      },
      "outputs": [],
      "source": [
        "%%bash\n",
        "source activate DeepLineDP_env\n",
        "\n",
        "cd /content/M8/Reproduction/DeepLineDP/script/ && python preprocess_data.py && python export_data_for_line_level_baseline.py"
      ]
    },
    {
      "cell_type": "markdown",
      "source": [
        "# Train Word2Vec model\n",
        " \n",
        "Note: training Word2Vec model takes about 5 minutes"
      ],
      "metadata": {
        "id": "Z6llHF5S8C89"
      }
    },
    {
      "cell_type": "code",
      "execution_count": null,
      "metadata": {
        "id": "u3klnZDdu5tM"
      },
      "outputs": [],
      "source": [
        "%%bash\n",
        "source activate DeepLineDP_env\n",
        "\n",
        "cd /content/M8/Reproduction/DeepLineDP/script/ && python train_word2vec.py activemq\n",
        "cd /content/M8/Reproduction/DeepLineDP/script/ && python train_word2vec.py camel\n",
        "cd /content/M8/Reproduction/DeepLineDP/script/ && python train_word2vec.py derby\n",
        "cd /content/M8/Reproduction/DeepLineDP/script/ && python train_word2vec.py groovy\n",
        "cd /content/M8/Reproduction/DeepLineDP/script/ && python train_word2vec.py hbase\n",
        "cd /content/M8/Reproduction/DeepLineDP/script/ && python train_word2vec.py hive\n",
        "cd /content/M8/Reproduction/DeepLineDP/script/ && python train_word2vec.py jruby\n",
        "cd /content/M8/Reproduction/DeepLineDP/script/ && python train_word2vec.py lucene\n",
        "cd /content/M8/Reproduction/DeepLineDP/script/ && python train_word2vec.py wicket"
      ]
    },
    {
      "cell_type": "markdown",
      "source": [
        "# Train DeepLineDP model\n",
        "\n",
        "Note: training DeepLineDP model takes about 50 minutes"
      ],
      "metadata": {
        "id": "0qzj9orS8Ms1"
      }
    },
    {
      "cell_type": "code",
      "execution_count": null,
      "metadata": {
        "id": "fpWm368Jyf36"
      },
      "outputs": [],
      "source": [
        "%%bash\n",
        "source activate DeepLineDP_env\n",
        "\n",
        "cd /content/M8/Reproduction/DeepLineDP/script/ && python train_model.py -dataset activemq\n",
        "cd /content/M8/Reproduction/DeepLineDP/script/ && python train_model.py -dataset camel\n",
        "cd /content/M8/Reproduction/DeepLineDP/script/ && python train_model.py -dataset derby\n",
        "cd /content/M8/Reproduction/DeepLineDP/script/ && python train_model.py -dataset groovy\n",
        "cd /content/M8/Reproduction/DeepLineDP/script/ && python train_model.py -dataset hbase\n",
        "cd /content/M8/Reproduction/DeepLineDP/script/ && python train_model.py -dataset hive\n",
        "cd /content/M8/Reproduction/DeepLineDP/script/ && python train_model.py -dataset jruby\n",
        "cd /content/M8/Reproduction/DeepLineDP/script/ && python train_model.py -dataset lucene\n",
        "cd /content/M8/Reproduction/DeepLineDP/script/ && python train_model.py -dataset wicket"
      ]
    },
    {
      "cell_type": "markdown",
      "source": [
        "# Generate predictions\n",
        "\n",
        "Note: generating predictions takes about 10 minutes"
      ],
      "metadata": {
        "id": "_xgnX2b281vR"
      }
    },
    {
      "cell_type": "code",
      "execution_count": null,
      "metadata": {
        "id": "4_sy7mLozHxy"
      },
      "outputs": [],
      "source": [
        "%%bash\n",
        "source activate DeepLineDP_env\n",
        "\n",
        "cd /content/M8/Reproduction/DeepLineDP/script/ && python generate_prediction.py -dataset activemq\n",
        "cd /content/M8/Reproduction/DeepLineDP/script/ && python generate_prediction.py -dataset camel\n",
        "cd /content/M8/Reproduction/DeepLineDP/script/ && python generate_prediction.py -dataset derby\n",
        "cd /content/M8/Reproduction/DeepLineDP/script/ && python generate_prediction.py -dataset groovy\n",
        "cd /content/M8/Reproduction/DeepLineDP/script/ && python generate_prediction.py -dataset hbase\n",
        "cd /content/M8/Reproduction/DeepLineDP/script/ && python generate_prediction.py -dataset hive\n",
        "cd /content/M8/Reproduction/DeepLineDP/script/ && python generate_prediction.py -dataset jruby\n",
        "cd /content/M8/Reproduction/DeepLineDP/script/ && python generate_prediction.py -dataset lucene\n",
        "cd /content/M8/Reproduction/DeepLineDP/script/ && python generate_prediction.py -dataset wicket"
      ]
    },
    {
      "cell_type": "markdown",
      "source": [
        "# Generate cross projects predictions\n",
        "\n",
        "Note: generating cross projects predictions takes about 65 minutes"
      ],
      "metadata": {
        "id": "YGEQK8NL85kx"
      }
    },
    {
      "cell_type": "code",
      "execution_count": null,
      "metadata": {
        "id": "N_1zrXe_iboR"
      },
      "outputs": [],
      "source": [
        "%%bash\n",
        "source activate DeepLineDP_env\n",
        "\n",
        "cd /content/M8/Reproduction/DeepLineDP/script/ && python generate_prediction_cross_projects.py -dataset activemq\n",
        "cd /content/M8/Reproduction/DeepLineDP/script/ && python generate_prediction_cross_projects.py -dataset camel\n",
        "cd /content/M8/Reproduction/DeepLineDP/script/ && python generate_prediction_cross_projects.py -dataset derby\n",
        "cd /content/M8/Reproduction/DeepLineDP/script/ && python generate_prediction_cross_projects.py -dataset groovy\n",
        "cd /content/M8/Reproduction/DeepLineDP/script/ && python generate_prediction_cross_projects.py -dataset hbase\n",
        "cd /content/M8/Reproduction/DeepLineDP/script/ && python generate_prediction_cross_projects.py -dataset hive\n",
        "cd /content/M8/Reproduction/DeepLineDP/script/ && python generate_prediction_cross_projects.py -dataset jruby\n",
        "cd /content/M8/Reproduction/DeepLineDP/script/ && python generate_prediction_cross_projects.py -dataset lucene\n",
        "cd /content/M8/Reproduction/DeepLineDP/script/ && python generate_prediction_cross_projects.py -dataset wicket"
      ]
    },
    {
      "cell_type": "markdown",
      "source": [
        "# Train file-level baselines' models"
      ],
      "metadata": {
        "id": "wwxD58V589c5"
      }
    },
    {
      "cell_type": "code",
      "execution_count": null,
      "metadata": {
        "id": "sfNdNAN4i3Gf"
      },
      "outputs": [],
      "source": [
        "%%bash\n",
        "source activate DeepLineDP_env\n",
        "\n",
        "# Bi-LSTM\n",
        "cd /content/M8/Reproduction/DeepLineDP/script/file-level-baseline/ && python Bi-LSTM-baseline.py -data activemq -train\n",
        "cd /content/M8/Reproduction/DeepLineDP/script/file-level-baseline/ && python Bi-LSTM-baseline.py -data camel -train\n",
        "cd /content/M8/Reproduction/DeepLineDP/script/file-level-baseline/ && python Bi-LSTM-baseline_batch_size_16.py -data derby -train\n",
        "cd /content/M8/Reproduction/DeepLineDP/script/file-level-baseline/ && python Bi-LSTM-baseline_batch_size_16.py -data groovy -train\n",
        "cd /content/M8/Reproduction/DeepLineDP/script/file-level-baseline/ && python Bi-LSTM-baseline_batch_size_16.py -data hbase -train\n",
        "cd /content/M8/Reproduction/DeepLineDP/script/file-level-baseline/ && python Bi-LSTM-baseline_batch_size_16.py -data hive -train\n",
        "cd /content/M8/Reproduction/DeepLineDP/script/file-level-baseline/ && python Bi-LSTM-baseline_batch_size_16.py -data jruby -train\n",
        "cd /content/M8/Reproduction/DeepLineDP/script/file-level-baseline/ && python Bi-LSTM-baseline.py -data lucene -train\n",
        "cd /content/M8/Reproduction/DeepLineDP/script/file-level-baseline/ && python Bi-LSTM-baseline.py -data wicket -train\n",
        "\n",
        "# CNN\n",
        "cd /content/M8/Reproduction/DeepLineDP/script/file-level-baseline/ && python CNN-baseline.py -data activemq -train\n",
        "cd /content/M8/Reproduction/DeepLineDP/script/file-level-baseline/ && python CNN-baseline.py -data camel -train\n",
        "cd /content/M8/Reproduction/DeepLineDP/script/file-level-baseline/ && python CNN-baseline.py -data derby -train\n",
        "cd /content/M8/Reproduction/DeepLineDP/script/file-level-baseline/ && python CNN-baseline.py -data groovy -train\n",
        "cd /content/M8/Reproduction/DeepLineDP/script/file-level-baseline/ && python CNN-baseline.py -data hbase -train\n",
        "cd /content/M8/Reproduction/DeepLineDP/script/file-level-baseline/ && python CNN-baseline.py -data hive -train\n",
        "cd /content/M8/Reproduction/DeepLineDP/script/file-level-baseline/ && python CNN-baseline.py -data jruby -train\n",
        "cd /content/M8/Reproduction/DeepLineDP/script/file-level-baseline/ && python CNN-baseline.py -data lucene -train\n",
        "cd /content/M8/Reproduction/DeepLineDP/script/file-level-baseline/ && python CNN-baseline.py -data wicket -train\n",
        "\n",
        "# DBN\n",
        "cd /content/M8/Reproduction/DeepLineDP/script/file-level-baseline/ && python DBN-baseline.py -data activemq -train\n",
        "cd /content/M8/Reproduction/DeepLineDP/script/file-level-baseline/ && python DBN-baseline.py -data camel -train\n",
        "cd /content/M8/Reproduction/DeepLineDP/script/file-level-baseline/ && python DBN-baseline.py -data derby -train\n",
        "cd /content/M8/Reproduction/DeepLineDP/script/file-level-baseline/ && python DBN-baseline.py -data groovy -train\n",
        "cd /content/M8/Reproduction/DeepLineDP/script/file-level-baseline/ && python DBN-baseline.py -data hbase -train\n",
        "cd /content/M8/Reproduction/DeepLineDP/script/file-level-baseline/ && python DBN-baseline.py -data hive -train\n",
        "cd /content/M8/Reproduction/DeepLineDP/script/file-level-baseline/ && python DBN-baseline.py -data jruby -train\n",
        "cd /content/M8/Reproduction/DeepLineDP/script/file-level-baseline/ && python DBN-baseline.py -data lucene -train\n",
        "cd /content/M8/Reproduction/DeepLineDP/script/file-level-baseline/ && python DBN-baseline.py -data wicket -train\n",
        "\n",
        "# BoW\n",
        "cd /content/M8/Reproduction/DeepLineDP/script/file-level-baseline/ && python BoW-baseline.py -data activemq -train\n",
        "cd /content/M8/Reproduction/DeepLineDP/script/file-level-baseline/ && python BoW-baseline.py -data camel -train\n",
        "cd /content/M8/Reproduction/DeepLineDP/script/file-level-baseline/ && python BoW-baseline.py -data derby -train\n",
        "cd /content/M8/Reproduction/DeepLineDP/script/file-level-baseline/ && python BoW-baseline.py -data groovy -train\n",
        "cd /content/M8/Reproduction/DeepLineDP/script/file-level-baseline/ && python BoW-baseline.py -data hbase -train\n",
        "cd /content/M8/Reproduction/DeepLineDP/script/file-level-baseline/ && python BoW-baseline.py -data hive -train\n",
        "cd /content/M8/Reproduction/DeepLineDP/script/file-level-baseline/ && python BoW-baseline.py -data jruby -train\n",
        "cd /content/M8/Reproduction/DeepLineDP/script/file-level-baseline/ && python BoW-baseline.py -data lucene -train\n",
        "cd /content/M8/Reproduction/DeepLineDP/script/file-level-baseline/ && python BoW-baseline.py -data wicket -train"
      ]
    },
    {
      "cell_type": "markdown",
      "source": [
        "# Generate predictions for file-level baselines' models"
      ],
      "metadata": {
        "id": "rv2XuZZK9FK9"
      }
    },
    {
      "cell_type": "code",
      "execution_count": null,
      "metadata": {
        "id": "g98TzVRok-2F"
      },
      "outputs": [],
      "source": [
        "%%bash\n",
        "source activate DeepLineDP_env\n",
        "\n",
        "# Bi-LSTM\n",
        "cd /content/M8/Reproduction/DeepLineDP/script/file-level-baseline/ && python Bi-LSTM-baseline.py -data activemq -predict -target_epochs 6\n",
        "cd /content/M8/Reproduction/DeepLineDP/script/file-level-baseline/ && python Bi-LSTM-baseline.py -data camel -predict -target_epochs 6\n",
        "cd /content/M8/Reproduction/DeepLineDP/script/file-level-baseline/ && python Bi-LSTM-baseline.py -data derby -predict -target_epochs 6\n",
        "cd /content/M8/Reproduction/DeepLineDP/script/file-level-baseline/ && python Bi-LSTM-baseline.py -data groovy -predict -target_epochs 6\n",
        "cd /content/M8/Reproduction/DeepLineDP/script/file-level-baseline/ && python Bi-LSTM-baseline.py -data hbase -predict -target_epochs 6\n",
        "cd /content/M8/Reproduction/DeepLineDP/script/file-level-baseline/ && python Bi-LSTM-baseline.py -data hive -predict -target_epochs 6\n",
        "cd /content/M8/Reproduction/DeepLineDP/script/file-level-baseline/ && python Bi-LSTM-baseline.py -data jruby -predict -target_epochs 6\n",
        "cd /content/M8/Reproduction/DeepLineDP/script/file-level-baseline/ && python Bi-LSTM-baseline.py -data lucene -predict -target_epochs 6\n",
        "cd /content/M8/Reproduction/DeepLineDP/script/file-level-baseline/ && python Bi-LSTM-baseline.py -data wicket -predict -target_epochs 6\n",
        "\n",
        "# CNN\n",
        "cd /content/M8/Reproduction/DeepLineDP/script/file-level-baseline/ && python CNN-baseline.py -data activemq -predict -target_epochs 6\n",
        "cd /content/M8/Reproduction/DeepLineDP/script/file-level-baseline/ && python CNN-baseline.py -data camel -predict -target_epochs 6\n",
        "cd /content/M8/Reproduction/DeepLineDP/script/file-level-baseline/ && python CNN-baseline.py -data derby -predict -target_epochs 6\n",
        "cd /content/M8/Reproduction/DeepLineDP/script/file-level-baseline/ && python CNN-baseline.py -data groovy -predict -target_epochs 6\n",
        "cd /content/M8/Reproduction/DeepLineDP/script/file-level-baseline/ && python CNN-baseline.py -data hbase -predict -target_epochs 6\n",
        "cd /content/M8/Reproduction/DeepLineDP/script/file-level-baseline/ && python CNN-baseline.py -data hive -predict -target_epochs 6\n",
        "cd /content/M8/Reproduction/DeepLineDP/script/file-level-baseline/ && python CNN-baseline.py -data jruby -predict -target_epochs 6\n",
        "cd /content/M8/Reproduction/DeepLineDP/script/file-level-baseline/ && python CNN-baseline.py -data lucene -predict -target_epochs 6\n",
        "cd /content/M8/Reproduction/DeepLineDP/script/file-level-baseline/ && python CNN-baseline.py -data wicket -predict -target_epochs 6\n",
        "\n",
        "# DBN\n",
        "cd /content/M8/Reproduction/DeepLineDP/script/file-level-baseline/ && python DBN-baseline.py -data activemq -predict\n",
        "cd /content/M8/Reproduction/DeepLineDP/script/file-level-baseline/ && python DBN-baseline.py -data camel -predict\n",
        "cd /content/M8/Reproduction/DeepLineDP/script/file-level-baseline/ && python DBN-baseline.py -data derby -predict\n",
        "cd /content/M8/Reproduction/DeepLineDP/script/file-level-baseline/ && python DBN-baseline.py -data groovy -predict\n",
        "cd /content/M8/Reproduction/DeepLineDP/script/file-level-baseline/ && python DBN-baseline.py -data hbase -predict\n",
        "cd /content/M8/Reproduction/DeepLineDP/script/file-level-baseline/ && python DBN-baseline.py -data hive -predict\n",
        "cd /content/M8/Reproduction/DeepLineDP/script/file-level-baseline/ && python DBN-baseline.py -data jruby -predict\n",
        "cd /content/M8/Reproduction/DeepLineDP/script/file-level-baseline/ && python DBN-baseline.py -data lucene -predict\n",
        "cd /content/M8/Reproduction/DeepLineDP/script/file-level-baseline/ && python DBN-baseline.py -data wicket -predict\n",
        "\n",
        "# BoW\n",
        "cd /content/M8/Reproduction/DeepLineDP/script/file-level-baseline/ && python BoW-baseline.py -data activemq -predict\n",
        "cd /content/M8/Reproduction/DeepLineDP/script/file-level-baseline/ && python BoW-baseline.py -data camel -predict\n",
        "cd /content/M8/Reproduction/DeepLineDP/script/file-level-baseline/ && python BoW-baseline.py -data derby -predict\n",
        "cd /content/M8/Reproduction/DeepLineDP/script/file-level-baseline/ && python BoW-baseline.py -data groovy -predict\n",
        "cd /content/M8/Reproduction/DeepLineDP/script/file-level-baseline/ && python BoW-baseline.py -data hbase -predict\n",
        "cd /content/M8/Reproduction/DeepLineDP/script/file-level-baseline/ && python BoW-baseline.py -data hive -predict\n",
        "cd /content/M8/Reproduction/DeepLineDP/script/file-level-baseline/ && python BoW-baseline.py -data jruby -predict\n",
        "cd /content/M8/Reproduction/DeepLineDP/script/file-level-baseline/ && python BoW-baseline.py -data lucene -predict\n",
        "cd /content/M8/Reproduction/DeepLineDP/script/file-level-baseline/ && python BoW-baseline.py -data wicket -predict"
      ]
    },
    {
      "cell_type": "markdown",
      "source": [
        "# Generate results for RQ1-RQ4 with R script"
      ],
      "metadata": {
        "id": "bDx8fo1GGs2y"
      }
    },
    {
      "cell_type": "code",
      "source": [
        "%%R\n",
        "# get_evaluation_result.R content"
      ],
      "metadata": {
        "id": "VsYa-mWXGeQd"
      },
      "execution_count": null,
      "outputs": []
    },
    {
      "cell_type": "markdown",
      "source": [
        "# Export all to Google Drive\n",
        "Remember to change file path on Google Drive to suite your disk's directory hierarchy and file name to better describe which research reproduction's results you are zipping and exporting"
      ],
      "metadata": {
        "id": "WVhxh6p69MfB"
      }
    },
    {
      "cell_type": "code",
      "execution_count": null,
      "metadata": {
        "id": "ooWqbF6cYBNI"
      },
      "outputs": [],
      "source": [
        "# from google.colab import drive\n",
        "# drive.mount('/content/drive')\n",
        "\n",
        "# !zip -r /content/drive/MyDrive/PBRwIO/File-level_baselines_DBN_models_and_predictions.zip ./DeepLineDP/"
      ]
    },
    {
      "cell_type": "markdown",
      "source": [
        "# Import all from Google Drive\n",
        "Remember to change file path on Google Drive to suite your disk's directory hierarchy and file name of research reproduction's results you are importing and unzipping"
      ],
      "metadata": {
        "id": "3A67RNNT9PVx"
      }
    },
    {
      "cell_type": "code",
      "execution_count": null,
      "metadata": {
        "id": "fS1xBXNVYCTX"
      },
      "outputs": [],
      "source": [
        "from google.colab import drive\n",
        "drive.mount('/content/drive')\n",
        "\n",
        "!cp /content/drive/MyDrive/PBRwIO/All_reproduction_results.zip .\n",
        "!unzip ./All_reproduction_results.zip"
      ]
    }
  ],
  "metadata": {
    "accelerator": "GPU",
    "colab": {
      "provenance": []
    },
    "gpuClass": "standard",
    "kernelspec": {
      "display_name": "Python 3",
      "name": "python3"
    },
    "language_info": {
      "name": "python"
    }
  },
  "nbformat": 4,
  "nbformat_minor": 0
}