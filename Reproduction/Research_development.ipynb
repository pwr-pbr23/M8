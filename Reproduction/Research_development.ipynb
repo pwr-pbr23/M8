{
  "nbformat": 4,
  "nbformat_minor": 0,
  "metadata": {
    "colab": {
      "provenance": [],
      "gpuType": "T4"
    },
    "kernelspec": {
      "name": "python3",
      "display_name": "Python 3"
    },
    "language_info": {
      "name": "python"
    },
    "accelerator": "GPU"
  },
  "cells": [
    {
      "cell_type": "markdown",
      "source": [
        "# Clone required repository"
      ],
      "metadata": {
        "id": "fVVHyLyTrdNU"
      }
    },
    {
      "cell_type": "code",
      "source": [
        "!git clone https://github.com/pwr-pbr23/M8.git"
      ],
      "metadata": {
        "id": "9UilmajfrezU"
      },
      "execution_count": null,
      "outputs": []
    },
    {
      "cell_type": "markdown",
      "source": [
        "#Import required datasets from Google Drive\n"
      ],
      "metadata": {
        "id": "RDBOOBuYtsuM"
      }
    },
    {
      "cell_type": "code",
      "source": [
        "!mkdir -p ./M8/Reproduction/DeepLineDP/datasets/preprocessed_data\n",
        "\n",
        "# Defectors (bigger but with default's balance)\n",
        "!gdown --id 10ago-wU63WsHQyuWoIpwSrx8KU7fwTUW\n",
        "!unzip ./preprocessed_sbbs_corrected.zip\n",
        "!cp ./preprocessed_sbbs_corrected/preprocessed_sbbs/* ./M8/Reproduction/DeepLineDP/datasets/preprocessed_data\n",
        "!rm ./preprocessed_sbbs_corrected.zip\n",
        "!rm -r ./preprocessed_sbbs_corrected\n",
        "\n",
        "# Defectors (better balanced but with default's size)\n",
        "!gdown --id 1Cz8Q8Yf8r_x-ibO-hsMAx2UOQTr1-Xhj\n",
        "!unzip ./preprocessed_bbss_corrected.zip\n",
        "!cp ./preprocessed_bbss_corrected/* ./M8/Reproduction/DeepLineDP/datasets/preprocessed_data\n",
        "!rm ./preprocessed_bbss_corrected.zip\n",
        "!rm -r ./preprocessed_bbss_corrected\n",
        "\n",
        "# Whole default (+ tuning)\n",
        "!gdown --id 1TCg-eu5lvHVyDheHC6xfpoRDt5rxP8WG\n",
        "!unzip ./dataset_RQ3.zip -d ./dataset_RQ3\n",
        "!cp ./dataset_RQ3/* ./M8/Reproduction/DeepLineDP/datasets/preprocessed_data\n",
        "!rm ./dataset_RQ3.zip\n",
        "!rm -r ./dataset_RQ3\n",
        "\n",
        "# Whole Defectors (+ tuning)\n",
        "!gdown --id 1IXMND3GyEyaw1pYiLx8Yoz8AD8DzQoPC\n",
        "!unzip ./preprocessed_corrected.zip\n",
        "!cp ./preprocessed/* ./M8/Reproduction/DeepLineDP/datasets/preprocessed_data\n",
        "!rm ./preprocessed_corrected.zip\n",
        "!rm -r ./preprocessed\n",
        "\n",
        "# # Default and Defectors combined\n",
        "# !cp /content/drive/MyDrive/PBRwIO/dataset_RQ5.zip .\n",
        "# !unzip ./dataset_RQ5.zip\n",
        "# !cp ./dataset_RQ5/* ./M8/Reproduction/DeepLineDP/datasets/preprocessed_data"
      ],
      "metadata": {
        "id": "5KbKerTpttJg"
      },
      "execution_count": null,
      "outputs": []
    },
    {
      "cell_type": "markdown",
      "source": [
        "# Setup conda environment part I"
      ],
      "metadata": {
        "id": "IXlhhIUVrSpK"
      }
    },
    {
      "cell_type": "code",
      "execution_count": null,
      "metadata": {
        "id": "Mpiijnz-pX6G"
      },
      "outputs": [],
      "source": [
        "!pip install -q condacolab\n",
        "import condacolab\n",
        "condacolab.install()\n",
        "\n",
        "!cd /content/M8/Reproduction/DeepLineDP/ && conda env create -f requirements.yml"
      ]
    },
    {
      "cell_type": "markdown",
      "source": [
        "# Setup conda environment part II"
      ],
      "metadata": {
        "id": "V9uL02KlrUc1"
      }
    },
    {
      "cell_type": "code",
      "source": [
        "%%bash\n",
        "source activate DeepLineDP_env\n",
        "\n",
        "pip install torch\n",
        "pip install imblearn"
      ],
      "metadata": {
        "id": "bUIEblHwrUqQ"
      },
      "execution_count": null,
      "outputs": []
    },
    {
      "cell_type": "markdown",
      "source": [
        "# Train Word2Vec model"
      ],
      "metadata": {
        "id": "RmvylUAdusMP"
      }
    },
    {
      "cell_type": "code",
      "source": [
        "%%bash\n",
        "source activate DeepLineDP_env\n",
        "\n",
        "cd /content/M8/Reproduction/DeepLineDP/script/ && python research_development_train_word2vec.py dataset_RQ1\n",
        "cd /content/M8/Reproduction/DeepLineDP/script/ && python research_development_train_word2vec.py dataset_RQ2\n",
        "cd /content/M8/Reproduction/DeepLineDP/script/ && python research_development_train_word2vec.py dataset_RQ3\n",
        "cd /content/M8/Reproduction/DeepLineDP/script/ && python research_development_train_word2vec.py dataset_RQ4\n",
        "# cd /content/M8/Reproduction/DeepLineDP/script/ && python research_development_train_word2vec.py dataset_RQ5"
      ],
      "metadata": {
        "id": "Qy9i40e3usuX"
      },
      "execution_count": null,
      "outputs": []
    },
    {
      "cell_type": "markdown",
      "source": [
        "# Train DeepLineDP model"
      ],
      "metadata": {
        "id": "aeodWh8zuaYn"
      }
    },
    {
      "cell_type": "code",
      "source": [
        "%%bash\n",
        "source activate DeepLineDP_env\n",
        "\n",
        "cd /content/M8/Reproduction/DeepLineDP/script/ && python research_development_train_model.py -batch_size 8 -dataset dataset_RQ1\n",
        "cd /content/M8/Reproduction/DeepLineDP/script/ && python research_development_train_model.py -batch_size 8 -dataset dataset_RQ2\n",
        "cd /content/M8/Reproduction/DeepLineDP/script/ && python research_development_train_model.py -batch_size 8 -dataset dataset_RQ3\n",
        "cd /content/M8/Reproduction/DeepLineDP/script/ && python research_development_train_model.py -batch_size 8 -dataset dataset_RQ4\n",
        "# cd /content/M8/Reproduction/DeepLineDP/script/ && python research_development_train_model.py -dataset dataset_RQ5"
      ],
      "metadata": {
        "id": "O4ZwdQZBubAH"
      },
      "execution_count": null,
      "outputs": []
    },
    {
      "cell_type": "markdown",
      "source": [
        "# Generate predictions\n"
      ],
      "metadata": {
        "id": "6Js1ME9NuK7U"
      }
    },
    {
      "cell_type": "code",
      "source": [
        "%%bash\n",
        "source activate DeepLineDP_env\n",
        "\n",
        "cd /content/M8/Reproduction/DeepLineDP/script/ && python research_development_generate_prediction.py -dataset dataset_RQ1\n",
        "cd /content/M8/Reproduction/DeepLineDP/script/ && python research_development_generate_prediction.py -dataset dataset_RQ2\n",
        "cd /content/M8/Reproduction/DeepLineDP/script/ && python research_development_generate_prediction.py -dataset dataset_RQ3\n",
        "cd /content/M8/Reproduction/DeepLineDP/script/ && python research_development_generate_prediction.py -dataset dataset_RQ4\n",
        "# cd /content/M8/Reproduction/DeepLineDP/script/ && python research_development_generate_prediction.py -dataset dataset_RQ5"
      ],
      "metadata": {
        "id": "hUMRLpjQuLA9"
      },
      "execution_count": null,
      "outputs": []
    },
    {
      "cell_type": "markdown",
      "source": [
        "#Export results to Google Drive\n",
        "Remember to change file path on Google Drive to suite your disk's directory hierarchy and file name of results you are zipping and exporting"
      ],
      "metadata": {
        "id": "BHxSc5sQu42O"
      }
    },
    {
      "cell_type": "code",
      "source": [
        "from google.colab import drive\n",
        "drive.mount('/content/drive')\n",
        "\n",
        "!zip -r /content/drive/MyDrive/PBRwIO/results.zip ./M8/"
      ],
      "metadata": {
        "id": "iD6_bIkVu4_3"
      },
      "execution_count": null,
      "outputs": []
    }
  ]
}